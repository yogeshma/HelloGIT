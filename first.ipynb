{
  "nbformat": 4,
  "nbformat_minor": 0,
  "metadata": {
    "colab": {
      "provenance": [],
      "authorship_tag": "ABX9TyMSL+crGIeHf3IvJtpvTe+a",
      "include_colab_link": true
    },
    "kernelspec": {
      "name": "python3",
      "display_name": "Python 3"
    },
    "language_info": {
      "name": "python"
    }
  },
  "cells": [
    {
      "cell_type": "markdown",
      "metadata": {
        "id": "view-in-github",
        "colab_type": "text"
      },
      "source": [
        "<a href=\"https://colab.research.google.com/github/yogeshma/HelloGIT/blob/master/first.ipynb\" target=\"_parent\"><img src=\"https://colab.research.google.com/assets/colab-badge.svg\" alt=\"Open In Colab\"/></a>"
      ]
    },
    {
      "cell_type": "code",
      "execution_count": 1,
      "metadata": {
        "id": "3SIFB5wUZW6m"
      },
      "outputs": [],
      "source": [
        "#my first colab project"
      ]
    },
    {
      "cell_type": "code",
      "source": [
        "print(\"hellow how are you\")"
      ],
      "metadata": {
        "colab": {
          "base_uri": "https://localhost:8080/"
        },
        "id": "vY5cvDfdZdR2",
        "outputId": "dd53af89-1998-4828-9bcb-53c965dec67a"
      },
      "execution_count": 2,
      "outputs": [
        {
          "output_type": "stream",
          "name": "stdout",
          "text": [
            "hellow how are you\n"
          ]
        }
      ]
    },
    {
      "cell_type": "code",
      "source": [
        "a= 20\n",
        "b = 30\n",
        "\n",
        "print(\"the sum of a and b :\", a+b)\n"
      ],
      "metadata": {
        "colab": {
          "base_uri": "https://localhost:8080/"
        },
        "id": "9_q5PS9CaMbM",
        "outputId": "ad2f08df-3a68-4d03-9a92-8932499184ca"
      },
      "execution_count": 3,
      "outputs": [
        {
          "output_type": "stream",
          "name": "stdout",
          "text": [
            "the sum of a and b : 50\n"
          ]
        }
      ]
    }
  ]
}